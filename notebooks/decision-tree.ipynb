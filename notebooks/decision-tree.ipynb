{
 "cells": [
  {
   "cell_type": "code",
   "execution_count": 1,
   "metadata": {},
   "outputs": [],
   "source": [
    "from math import log\n",
    "from collections import Counter"
   ]
  },
  {
   "cell_type": "code",
   "execution_count": 19,
   "metadata": {},
   "outputs": [
    {
     "data": {
      "text/plain": [
       "0.0"
      ]
     },
     "execution_count": 19,
     "metadata": {},
     "output_type": "execute_result"
    }
   ],
   "source": [
    "def entropy(data):\n",
    "    counts = Counter(data).most_common()\n",
    "    return sum([-proportion * log(proportion, 2)\n",
    "                 for proportion in\n",
    "                 map(lambda count: count[1] / len(data), counts)])\n",
    "\n",
    "entropy([0, 0])"
   ]
  },
  {
   "cell_type": "code",
   "execution_count": 20,
   "metadata": {},
   "outputs": [],
   "source": [
    "from operator import itemgetter\n",
    "\n",
    "def information_gain(samples, attribute_id):\n",
    "    unique_attribute_values = set(map(samples, itemgetter(attribute_id)))\n",
    "    labels_by_attribute_value = {attr_value: map(get_label, filter(lambda x: x[attribute_id] == attr_value, samples))\n",
    "                                 for attr_value in unique_attribute_values}\n",
    "    \n",
    "    return entropy(map(get_label, samples))"
   ]
  }
 ],
 "metadata": {
  "kernelspec": {
   "display_name": "Python 3",
   "language": "python",
   "name": "python3"
  },
  "language_info": {
   "codemirror_mode": {
    "name": "ipython",
    "version": 3
   },
   "file_extension": ".py",
   "mimetype": "text/x-python",
   "name": "python",
   "nbconvert_exporter": "python",
   "pygments_lexer": "ipython3",
   "version": "3.6.3"
  }
 },
 "nbformat": 4,
 "nbformat_minor": 2
}
